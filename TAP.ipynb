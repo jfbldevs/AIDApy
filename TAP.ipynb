{
 "metadata": {
  "language_info": {
   "codemirror_mode": {
    "name": "ipython",
    "version": 3
   },
   "file_extension": ".py",
   "mimetype": "text/x-python",
   "name": "python",
   "nbconvert_exporter": "python",
   "pygments_lexer": "ipython3",
   "version": "3.8.5-final"
  },
  "orig_nbformat": 2,
  "kernelspec": {
   "name": "python3",
   "display_name": "Python 3",
   "language": "python"
  }
 },
 "nbformat": 4,
 "nbformat_minor": 2,
 "cells": [
  {
   "cell_type": "code",
   "execution_count": 1,
   "metadata": {},
   "outputs": [],
   "source": [
    "from pycaret.classification import *\n",
    "import pandas as pd"
   ]
  },
  {
   "cell_type": "code",
   "execution_count": null,
   "metadata": {},
   "outputs": [],
   "source": [
    "df=pd.read_csv(\"file.csv\") #Data generated with the AIDApy script"
   ]
  },
  {
   "cell_type": "code",
   "execution_count": null,
   "metadata": {
    "tags": []
   },
   "outputs": [],
   "source": [
    "setup(data=df, target='label', train_size=0.8)"
   ]
  },
  {
   "cell_type": "code",
   "execution_count": null,
   "metadata": {
    "tags": []
   },
   "outputs": [],
   "source": [
    "#Comparison of algorithms based on performance measures obtained during 10-fold cross-validation\n",
    "compare_models()"
   ]
  },
  {
   "cell_type": "code",
   "execution_count": null,
   "metadata": {
    "tags": []
   },
   "outputs": [],
   "source": [
    "#Model preparation for other evaluations\n",
    "xgboost = create_model('xgboost')\n",
    "et = create_model('et')\n",
    "lightgbm=create_model('lightgbm')\n",
    "catboost=create_model('catboost')\n",
    "mlp=create_model('mlp')\n",
    "rf=create_model('rf')\n",
    "ridge=create_model('ridge')\n",
    "lr=create_model('lr')\n",
    "qda=create_model('qda')\n",
    "lda=create_model('lda')\n",
    "nb=create_model('nb')\n",
    "gbc=create_model('gbc')\n",
    "ada=create_model('ada')\n",
    "knn=create_model('knn')\n",
    "svm=create_model('svm')\n",
    "rbfsvm=create_model('rbfsvm')\n",
    "dt=create_model('dt')\n",
    "gpc=create_model('gpc')"
   ]
  },
  {
   "cell_type": "code",
   "execution_count": null,
   "metadata": {},
   "outputs": [],
   "source": [
    "evaluate_model(xgboost) #Algorithm evaluation (plots), ex: xgboost"
   ]
  },
  {
   "cell_type": "code",
   "execution_count": null,
   "metadata": {
    "tags": []
   },
   "outputs": [],
   "source": [
    "holdoubt_pred=predict_model(xgboost) #Algorithm evaluation on an independent dataset"
   ]
  },
  {
   "cell_type": "code",
   "execution_count": null,
   "metadata": {},
   "outputs": [],
   "source": [
    "finalize_model(holdoubt_pred) #Prediction protocol packaging"
   ]
  },
  {
   "cell_type": "code",
   "execution_count": null,
   "metadata": {
    "tags": []
   },
   "outputs": [],
   "source": [
    "save_model(blender_specific, 'my_model') #Model save"
   ]
  }
 ]
}